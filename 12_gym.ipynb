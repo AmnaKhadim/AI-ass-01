{
  "nbformat": 4,
  "nbformat_minor": 0,
  "metadata": {
    "colab": {
      "provenance": []
    },
    "kernelspec": {
      "name": "python3",
      "display_name": "Python 3"
    },
    "language_info": {
      "name": "python"
    }
  },
  "cells": [
    {
      "cell_type": "code",
      "execution_count": null,
      "metadata": {
        "colab": {
          "base_uri": "https://localhost:8080/",
          "height": 703
        },
        "id": "VQLdLQpOiI_N",
        "outputId": "c388768f-a6a2-415b-cd2c-477886081724"
      },
      "outputs": [
        {
          "output_type": "stream",
          "name": "stdout",
          "text": [
            "Exercise Name        object\n",
            "Equipment            object\n",
            "Preparation          object\n",
            "Execution            object\n",
            "Target_Muscles       object\n",
            "Synergist_Muscles    object\n",
            "Main_muscle          object\n",
            "dtype: object\n",
            "Number of duplicate rows: 0\n",
            "<class 'pandas.core.frame.DataFrame'>\n",
            "RangeIndex: 94 entries, 0 to 93\n",
            "Data columns (total 7 columns):\n",
            " #   Column             Non-Null Count  Dtype \n",
            "---  ------             --------------  ----- \n",
            " 0   Exercise Name      94 non-null     object\n",
            " 1   Equipment          94 non-null     object\n",
            " 2   Preparation        94 non-null     object\n",
            " 3   Execution          94 non-null     object\n",
            " 4   Target_Muscles     93 non-null     object\n",
            " 5   Synergist_Muscles  94 non-null     object\n",
            " 6   Main_muscle        94 non-null     object\n",
            "dtypes: object(7)\n",
            "memory usage: 5.3+ KB\n"
          ]
        },
        {
          "output_type": "execute_result",
          "data": {
            "text/plain": [
              "Exercise Name        0\n",
              "Equipment            0\n",
              "Preparation          0\n",
              "Execution            0\n",
              "Target_Muscles       1\n",
              "Synergist_Muscles    0\n",
              "Main_muscle          0\n",
              "dtype: int64"
            ],
            "text/html": [
              "<div>\n",
              "<style scoped>\n",
              "    .dataframe tbody tr th:only-of-type {\n",
              "        vertical-align: middle;\n",
              "    }\n",
              "\n",
              "    .dataframe tbody tr th {\n",
              "        vertical-align: top;\n",
              "    }\n",
              "\n",
              "    .dataframe thead th {\n",
              "        text-align: right;\n",
              "    }\n",
              "</style>\n",
              "<table border=\"1\" class=\"dataframe\">\n",
              "  <thead>\n",
              "    <tr style=\"text-align: right;\">\n",
              "      <th></th>\n",
              "      <th>0</th>\n",
              "    </tr>\n",
              "  </thead>\n",
              "  <tbody>\n",
              "    <tr>\n",
              "      <th>Exercise Name</th>\n",
              "      <td>0</td>\n",
              "    </tr>\n",
              "    <tr>\n",
              "      <th>Equipment</th>\n",
              "      <td>0</td>\n",
              "    </tr>\n",
              "    <tr>\n",
              "      <th>Preparation</th>\n",
              "      <td>0</td>\n",
              "    </tr>\n",
              "    <tr>\n",
              "      <th>Execution</th>\n",
              "      <td>0</td>\n",
              "    </tr>\n",
              "    <tr>\n",
              "      <th>Target_Muscles</th>\n",
              "      <td>1</td>\n",
              "    </tr>\n",
              "    <tr>\n",
              "      <th>Synergist_Muscles</th>\n",
              "      <td>0</td>\n",
              "    </tr>\n",
              "    <tr>\n",
              "      <th>Main_muscle</th>\n",
              "      <td>0</td>\n",
              "    </tr>\n",
              "  </tbody>\n",
              "</table>\n",
              "</div><br><label><b>dtype:</b> int64</label>"
            ]
          },
          "metadata": {},
          "execution_count": 2
        }
      ],
      "source": [
        "import pandas as pd\n",
        "\n",
        "# Importing CSV file\n",
        "df = pd.read_csv('/content/stretch_exercise_dataset new.csv')\n",
        "\n",
        "data_types = df.dtypes\n",
        "print(data_types)\n",
        "\n",
        "duplicates = df.duplicated().sum()\n",
        "print(f\"Number of duplicate rows: {duplicates}\")\n",
        "\n",
        "df.info()\n",
        "\n",
        "df.describe()\n",
        "\n",
        "df.isnull().sum()"
      ]
    }
  ]
}