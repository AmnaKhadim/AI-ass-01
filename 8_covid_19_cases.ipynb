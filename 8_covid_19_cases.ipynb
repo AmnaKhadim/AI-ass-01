{
  "nbformat": 4,
  "nbformat_minor": 0,
  "metadata": {
    "colab": {
      "provenance": []
    },
    "kernelspec": {
      "name": "python3",
      "display_name": "Python 3"
    },
    "language_info": {
      "name": "python"
    }
  },
  "cells": [
    {
      "cell_type": "code",
      "execution_count": null,
      "metadata": {
        "colab": {
          "base_uri": "https://localhost:8080/",
          "height": 835
        },
        "id": "RWuJZ0-He0DN",
        "outputId": "f859c781-647a-467d-cf5c-fc3979e526f5"
      },
      "outputs": [
        {
          "output_type": "stream",
          "name": "stdout",
          "text": [
            "Date_reported         object\n",
            "Country_code          object\n",
            "Country               object\n",
            "Continent             object\n",
            "WHO_region            object\n",
            "New_cases            float64\n",
            "Cumulative_cases       int64\n",
            "New_deaths           float64\n",
            "Cumulative_deaths      int64\n",
            "dtype: object\n",
            "Number of duplicate rows: 0\n",
            "<class 'pandas.core.frame.DataFrame'>\n",
            "RangeIndex: 58560 entries, 0 to 58559\n",
            "Data columns (total 9 columns):\n",
            " #   Column             Non-Null Count  Dtype  \n",
            "---  ------             --------------  -----  \n",
            " 0   Date_reported      58560 non-null  object \n",
            " 1   Country_code       58316 non-null  object \n",
            " 2   Country            58560 non-null  object \n",
            " 3   Continent          58560 non-null  object \n",
            " 4   WHO_region         54168 non-null  object \n",
            " 5   New_cases          39260 non-null  float64\n",
            " 6   Cumulative_cases   58560 non-null  int64  \n",
            " 7   New_deaths         25084 non-null  float64\n",
            " 8   Cumulative_deaths  58560 non-null  int64  \n",
            "dtypes: float64(2), int64(2), object(5)\n",
            "memory usage: 4.0+ MB\n"
          ]
        },
        {
          "output_type": "execute_result",
          "data": {
            "text/plain": [
              "Date_reported            0\n",
              "Country_code           244\n",
              "Country                  0\n",
              "Continent                0\n",
              "WHO_region            4392\n",
              "New_cases            19300\n",
              "Cumulative_cases         0\n",
              "New_deaths           33476\n",
              "Cumulative_deaths        0\n",
              "dtype: int64"
            ],
            "text/html": [
              "<div>\n",
              "<style scoped>\n",
              "    .dataframe tbody tr th:only-of-type {\n",
              "        vertical-align: middle;\n",
              "    }\n",
              "\n",
              "    .dataframe tbody tr th {\n",
              "        vertical-align: top;\n",
              "    }\n",
              "\n",
              "    .dataframe thead th {\n",
              "        text-align: right;\n",
              "    }\n",
              "</style>\n",
              "<table border=\"1\" class=\"dataframe\">\n",
              "  <thead>\n",
              "    <tr style=\"text-align: right;\">\n",
              "      <th></th>\n",
              "      <th>0</th>\n",
              "    </tr>\n",
              "  </thead>\n",
              "  <tbody>\n",
              "    <tr>\n",
              "      <th>Date_reported</th>\n",
              "      <td>0</td>\n",
              "    </tr>\n",
              "    <tr>\n",
              "      <th>Country_code</th>\n",
              "      <td>244</td>\n",
              "    </tr>\n",
              "    <tr>\n",
              "      <th>Country</th>\n",
              "      <td>0</td>\n",
              "    </tr>\n",
              "    <tr>\n",
              "      <th>Continent</th>\n",
              "      <td>0</td>\n",
              "    </tr>\n",
              "    <tr>\n",
              "      <th>WHO_region</th>\n",
              "      <td>4392</td>\n",
              "    </tr>\n",
              "    <tr>\n",
              "      <th>New_cases</th>\n",
              "      <td>19300</td>\n",
              "    </tr>\n",
              "    <tr>\n",
              "      <th>Cumulative_cases</th>\n",
              "      <td>0</td>\n",
              "    </tr>\n",
              "    <tr>\n",
              "      <th>New_deaths</th>\n",
              "      <td>33476</td>\n",
              "    </tr>\n",
              "    <tr>\n",
              "      <th>Cumulative_deaths</th>\n",
              "      <td>0</td>\n",
              "    </tr>\n",
              "  </tbody>\n",
              "</table>\n",
              "</div><br><label><b>dtype:</b> int64</label>"
            ]
          },
          "metadata": {},
          "execution_count": 2
        }
      ],
      "source": [
        "import pandas as pd\n",
        "\n",
        "# Importing CSV file\n",
        "df = pd.read_csv('/content/WHO COVID-19 cases.csv')\n",
        "\n",
        "data_types = df.dtypes\n",
        "print(data_types)\n",
        "\n",
        "duplicates = df.duplicated().sum()\n",
        "print(f\"Number of duplicate rows: {duplicates}\")\n",
        "\n",
        "df.info()\n",
        "\n",
        "df.describe()\n",
        "\n",
        "df.isnull().sum()"
      ]
    }
  ]
}